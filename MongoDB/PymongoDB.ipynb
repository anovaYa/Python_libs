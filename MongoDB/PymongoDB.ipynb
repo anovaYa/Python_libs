{
 "cells": [
  {
   "cell_type": "markdown",
   "id": "20f8c4e0",
   "metadata": {},
   "source": [
    "# PyMongo"
   ]
  },
  {
   "cell_type": "markdown",
   "id": "2665d83c",
   "metadata": {},
   "source": [
    "**MongoDB** is a type of NoSQL Database.<br>\n",
    "\n",
    "NoSQL simply means a non-relational database.<br>\n",
    "\n",
    "In MongoDB, each individual records are stored as **‘documents’**.<br>\n",
    "\n",
    "Documents belonging to a particular class or group as stored in a **‘collection’**.<br>\n",
    "\n",
    "*MongoDB stores data in form of JSON-like documents {}*<br>\n",
    "\n",
    "**PyMongo** is a Python distribution containing tools for working with MongoDB."
   ]
  },
  {
   "cell_type": "code",
   "execution_count": 58,
   "id": "a3c0dea9",
   "metadata": {},
   "outputs": [],
   "source": [
    "import pymongo\n",
    "from random import randint\n",
    "import datetime\n",
    "import pandas as pd"
   ]
  },
  {
   "cell_type": "markdown",
   "id": "d42a27c7",
   "metadata": {},
   "source": [
    "## Making a Connection with MongoClient"
   ]
  },
  {
   "cell_type": "code",
   "execution_count": 3,
   "id": "38a16066",
   "metadata": {},
   "outputs": [],
   "source": [
    "#Connection\n",
    "client = pymongo.MongoClient(\"mongodb+srv://user:<password>@cluster0.ida1zgk.mongodb.net/?retryWrites=true&w=majority\")\n",
    "#client = MongoClient('localhost', 27017)\n",
    "#client = MongoClient('mongodb://localhost:27017/')\n",
    "\n",
    "#Getting a DB\n",
    "db = client.testdata # db = client['testdata']\n",
    "\n",
    "#Getting a Collection\n",
    "collection = db.testcoll # collection = db['testcoll']"
   ]
  },
  {
   "cell_type": "code",
   "execution_count": 5,
   "id": "49903fa2",
   "metadata": {},
   "outputs": [],
   "source": [
    "# host_info = client['HOST']\n",
    "# print (\"host:\", host_info)"
   ]
  },
  {
   "cell_type": "markdown",
   "id": "979be79a",
   "metadata": {},
   "source": [
    "## Inserting a Document\n",
    "* .insert_one()\n",
    "* .insert_many()"
   ]
  },
  {
   "cell_type": "code",
   "execution_count": 22,
   "id": "465a13bf",
   "metadata": {},
   "outputs": [
    {
     "data": {
      "text/plain": [
       "<pymongo.results.InsertOneResult at 0x1ba38a58d80>"
      ]
     },
     "execution_count": 22,
     "metadata": {},
     "output_type": "execute_result"
    }
   ],
   "source": [
    "collection.insert_one({'_id' : 1, \n",
    "                       'num' : randint(1, 10), \n",
    "                       'date': datetime.datetime.now()})"
   ]
  },
  {
   "cell_type": "code",
   "execution_count": 13,
   "id": "695e8808",
   "metadata": {},
   "outputs": [
    {
     "data": {
      "text/plain": [
       "<pymongo.results.InsertOneResult at 0x29804e6d4c0>"
      ]
     },
     "execution_count": 13,
     "metadata": {},
     "output_type": "execute_result"
    }
   ],
   "source": [
    "in_data = { 'num': 23, 'date': datetime.datetime(2023, 3, 24), 'name': 'test_val'}\n",
    "\n",
    "collection.insert_one(in_data)"
   ]
  },
  {
   "cell_type": "code",
   "execution_count": 14,
   "id": "7bb95652",
   "metadata": {},
   "outputs": [],
   "source": [
    "# in_data = { 'num': 94, 'date': datetime.datetime(2023, 3, 23), 'name': 'val'}\n",
    "# collection.insert_one(in_data)\n",
    "# in_data = { 'num': 17, 'date': datetime.datetime(2023, 3, 25), 'name': 'bcd'}\n",
    "# collection.insert_one(in_data)"
   ]
  },
  {
   "cell_type": "code",
   "execution_count": 30,
   "id": "6d57de7f",
   "metadata": {},
   "outputs": [
    {
     "data": {
      "text/plain": [
       "<pymongo.results.InsertManyResult at 0x1ba39801940>"
      ]
     },
     "execution_count": 30,
     "metadata": {},
     "output_type": "execute_result"
    }
   ],
   "source": [
    "data = []\n",
    "for i in range(2, 11):\n",
    "    data.append({'_id' : i, \n",
    "                 'num' : randint(1, 50), \n",
    "                 'date': datetime.datetime.now() + datetime.timedelta(days=i)})\n",
    "collection.insert_many(data)"
   ]
  },
  {
   "cell_type": "markdown",
   "id": "6da28ecd",
   "metadata": {},
   "source": [
    "#### Return the _id Field"
   ]
  },
  {
   "cell_type": "code",
   "execution_count": 6,
   "id": "f3f32a68",
   "metadata": {},
   "outputs": [],
   "source": [
    "#x = mycol.insert_many(mylist)\n",
    "\n",
    "#print list of the _id values of the inserted documents:\n",
    "#print(x.inserted_ids)\n"
   ]
  },
  {
   "cell_type": "markdown",
   "id": "ee7fd0dd",
   "metadata": {},
   "source": [
    "## Counting"
   ]
  },
  {
   "cell_type": "code",
   "execution_count": 35,
   "id": "52066f9c",
   "metadata": {},
   "outputs": [
    {
     "data": {
      "text/plain": [
       "1"
      ]
     },
     "execution_count": 35,
     "metadata": {},
     "output_type": "execute_result"
    }
   ],
   "source": [
    "#by id\n",
    "collection.count_documents({'_id' : 1})"
   ]
  },
  {
   "cell_type": "code",
   "execution_count": 36,
   "id": "d872c371",
   "metadata": {},
   "outputs": [
    {
     "data": {
      "text/plain": [
       "0"
      ]
     },
     "execution_count": 36,
     "metadata": {},
     "output_type": "execute_result"
    }
   ],
   "source": [
    "collection.count_documents({'_id' : 12})"
   ]
  },
  {
   "cell_type": "code",
   "execution_count": 37,
   "id": "f49688a4",
   "metadata": {},
   "outputs": [
    {
     "data": {
      "text/plain": [
       "10"
      ]
     },
     "execution_count": 37,
     "metadata": {},
     "output_type": "execute_result"
    }
   ],
   "source": [
    "collection.count_documents({})"
   ]
  },
  {
   "cell_type": "markdown",
   "id": "2e04c158",
   "metadata": {},
   "source": [
    "## Find\n",
    "#### Getting a Single Document"
   ]
  },
  {
   "cell_type": "code",
   "execution_count": 39,
   "id": "e39059c3",
   "metadata": {},
   "outputs": [
    {
     "data": {
      "text/plain": [
       "datetime.datetime(2023, 3, 29, 12, 23, 46, 674000)"
      ]
     },
     "execution_count": 39,
     "metadata": {},
     "output_type": "execute_result"
    }
   ],
   "source": [
    "collection.find_one({'_id':5})['date']"
   ]
  },
  {
   "cell_type": "markdown",
   "id": "724524dc",
   "metadata": {},
   "source": [
    "#### Find All"
   ]
  },
  {
   "cell_type": "code",
   "execution_count": 54,
   "id": "b0b13e96",
   "metadata": {},
   "outputs": [
    {
     "name": "stdout",
     "output_type": "stream",
     "text": [
      "{'_id': 1, 'num': 7, 'date': datetime.datetime(2023, 3, 24, 12, 14, 16, 145000)}\n",
      "{'_id': 3, 'num': 7, 'date': datetime.datetime(2023, 3, 27, 12, 23, 46, 674000)}\n"
     ]
    }
   ],
   "source": [
    "query={'num':7}\n",
    "for i in collection.find(query):\n",
    "    print(i)\n",
    "    "
   ]
  },
  {
   "cell_type": "markdown",
   "id": "bd71cdda",
   "metadata": {},
   "source": [
    "#### Return Only Some Fields\n",
    "0 - false<br> \n",
    "1 - true<br>\n",
    "0 - only id"
   ]
  },
  {
   "cell_type": "code",
   "execution_count": 55,
   "id": "effed55e",
   "metadata": {},
   "outputs": [
    {
     "name": "stdout",
     "output_type": "stream",
     "text": [
      "{'num': 7}\n",
      "{'num': 7}\n"
     ]
    }
   ],
   "source": [
    "query={'num':7}\n",
    "for i in collection.find(query, {'_id':0, 'num': 1}):\n",
    "    print(i)\n",
    "    "
   ]
  },
  {
   "cell_type": "markdown",
   "id": "1f9a6861",
   "metadata": {},
   "source": [
    "## Update Collection\n",
    "* .update_one()\n",
    "* .update_many()"
   ]
  },
  {
   "cell_type": "code",
   "execution_count": 7,
   "id": "b4258694",
   "metadata": {},
   "outputs": [],
   "source": [
    "up_data = []\n",
    "for i in range(1, 11):\n",
    "    up_data.append(f'test{i}{randint(1, 1000)}')"
   ]
  },
  {
   "cell_type": "code",
   "execution_count": 11,
   "id": "e31ef85c",
   "metadata": {},
   "outputs": [],
   "source": [
    "for j in range(1, 11):\n",
    "    collection.update_one({'_id' : j}, {'$set': {'name' : up_data[j-1]}})"
   ]
  },
  {
   "cell_type": "code",
   "execution_count": 43,
   "id": "ee11a9d6",
   "metadata": {},
   "outputs": [],
   "source": [
    "# collection.update_one({'_id' : 10}, {'$set': {'arr_field' : ['abc1', '2def']}})"
   ]
  },
  {
   "cell_type": "code",
   "execution_count": 43,
   "id": "daf2bacf",
   "metadata": {},
   "outputs": [],
   "source": [
    "for j in range(1, 11):\n",
    "    if j % 2 == 0:\n",
    "        collection.update_one({'_id' : j}, {'$set': {'name' : up_data[j-1].upper()}})"
   ]
  },
  {
   "cell_type": "code",
   "execution_count": 15,
   "id": "607dcdc8",
   "metadata": {},
   "outputs": [
    {
     "name": "stdout",
     "output_type": "stream",
     "text": [
      "{'_id': 1, 'num': 7, 'date': datetime.datetime(2023, 3, 24, 12, 14, 16, 145000), 'name': 'test1774'}\n",
      "{'_id': 9, 'num': 12, 'date': datetime.datetime(2023, 4, 2, 12, 23, 46, 674000), 'name': 'test9872'}\n",
      "{'_id': 4, 'num': 31, 'date': datetime.datetime(2023, 3, 28, 12, 23, 46, 674000), 'name': 'TEST4929'}\n",
      "{'_id': 10, 'num': 40, 'date': datetime.datetime(2023, 4, 3, 12, 23, 46, 674000), 'name': 'TEST1081'}\n",
      "{'_id': 8, 'num': 47, 'date': datetime.datetime(2023, 4, 1, 12, 23, 46, 674000), 'name': 'TEST8745'}\n",
      "{'_id': 7, 'num': 4, 'date': datetime.datetime(2023, 3, 31, 12, 23, 46, 674000), 'name': 'test7534'}\n",
      "{'_id': 3, 'num': 7, 'date': datetime.datetime(2023, 3, 27, 12, 23, 46, 674000), 'name': 'test3895'}\n",
      "{'_id': 6, 'num': 23, 'date': datetime.datetime(2023, 3, 30, 12, 23, 46, 674000), 'name': 'TEST6220'}\n",
      "{'_id': 2, 'num': 26, 'date': datetime.datetime(2023, 3, 26, 12, 23, 46, 674000), 'name': 'TEST2640'}\n",
      "{'_id': 5, 'num': 34, 'date': datetime.datetime(2023, 3, 29, 12, 23, 46, 674000), 'name': 'test5154'}\n",
      "{'_id': ObjectId('641d8ce08f3a7e46b902631a'), 'num': 23, 'date': datetime.datetime(2023, 3, 24, 0, 0), 'name': 'test_val'}\n",
      "{'_id': ObjectId('6426bd99b73ccfa0a38d9a23'), 'num': 94, 'date': datetime.datetime(2023, 3, 23, 0, 0), 'name': 'val'}\n",
      "{'_id': ObjectId('6426c33ab73ccfa0a38d9a24'), 'num': 17, 'date': datetime.datetime(2023, 3, 25, 0, 0), 'name': 'bcd'}\n"
     ]
    }
   ],
   "source": [
    "for i in collection.find():\n",
    "    print(i)"
   ]
  },
  {
   "cell_type": "code",
   "execution_count": 9,
   "id": "515dff94",
   "metadata": {},
   "outputs": [],
   "source": [
    "def show_coll(coll_line):\n",
    "    for val in coll_line:\n",
    "        print(val)"
   ]
  },
  {
   "cell_type": "markdown",
   "id": "3d35f87c",
   "metadata": {},
   "source": [
    "#### Operators\n",
    "##### inc"
   ]
  },
  {
   "cell_type": "code",
   "execution_count": 40,
   "id": "1db77357",
   "metadata": {},
   "outputs": [
    {
     "name": "stdout",
     "output_type": "stream",
     "text": [
      "{'_id': 7, 'num': 4, 'date': datetime.datetime(2023, 3, 31, 12, 23, 46, 674000), 'name': 'test7534'}\n"
     ]
    }
   ],
   "source": [
    "show_coll(collection.find( { 'num': {'$lt' : 10}} ))"
   ]
  },
  {
   "cell_type": "code",
   "execution_count": 41,
   "id": "2e8dc6f4",
   "metadata": {},
   "outputs": [
    {
     "name": "stdout",
     "output_type": "stream",
     "text": [
      "{'_id': 7, 'num': 7, 'date': datetime.datetime(2023, 3, 31, 12, 23, 46, 674000), 'name': 'test7534'}\n"
     ]
    }
   ],
   "source": [
    "collection.update_one({'num' : 4}, {'$inc': {'num' : +3}})\n",
    "show_coll(collection.find( { 'num': {'$lt' : 10}} ))"
   ]
  },
  {
   "cell_type": "markdown",
   "id": "71501353",
   "metadata": {},
   "source": [
    "##### push"
   ]
  },
  {
   "cell_type": "code",
   "execution_count": 45,
   "id": "ce3ac501",
   "metadata": {},
   "outputs": [
    {
     "name": "stdout",
     "output_type": "stream",
     "text": [
      "{'_id': 10, 'num': 40, 'arr_field': ['abc1', '2def']}\n"
     ]
    }
   ],
   "source": [
    "show_coll(collection.find( {'_id' : 10}, {'date': 0, 'name':0} ))"
   ]
  },
  {
   "cell_type": "code",
   "execution_count": 46,
   "id": "233d4e07",
   "metadata": {},
   "outputs": [
    {
     "data": {
      "text/plain": [
       "<pymongo.results.UpdateResult at 0x1eb178656c0>"
      ]
     },
     "execution_count": 46,
     "metadata": {},
     "output_type": "execute_result"
    }
   ],
   "source": [
    "collection.update_one({'_id' : 10}, {'$push': {'arr_field' : 'a1b2c'}})"
   ]
  },
  {
   "cell_type": "code",
   "execution_count": 47,
   "id": "4ea90530",
   "metadata": {},
   "outputs": [
    {
     "name": "stdout",
     "output_type": "stream",
     "text": [
      "{'_id': 10, 'num': 40, 'arr_field': ['abc1', '2def', 'a1b2c']}\n"
     ]
    }
   ],
   "source": [
    "show_coll(collection.find( {'_id' : 10}, {'date': 0, 'name':0} ))"
   ]
  },
  {
   "cell_type": "markdown",
   "id": "0d3cb0c0",
   "metadata": {},
   "source": [
    "##### pop"
   ]
  },
  {
   "cell_type": "code",
   "execution_count": 48,
   "id": "316757a3",
   "metadata": {},
   "outputs": [
    {
     "name": "stdout",
     "output_type": "stream",
     "text": [
      "{'_id': 10, 'num': 40, 'arr_field': ['2def', 'a1b2c']}\n"
     ]
    }
   ],
   "source": [
    "collection.update_one({'_id' : 10}, {'$pop': {'arr_field' : -1}})\n",
    "show_coll(collection.find( {'_id' : 10}, {'date': 0, 'name':0} ))"
   ]
  },
  {
   "cell_type": "markdown",
   "id": "f50bce6d",
   "metadata": {},
   "source": [
    "* pull"
   ]
  },
  {
   "cell_type": "code",
   "execution_count": 49,
   "id": "9574aac0",
   "metadata": {},
   "outputs": [
    {
     "name": "stdout",
     "output_type": "stream",
     "text": [
      "{'_id': 10, 'num': 40, 'arr_field': ['a1b2c']}\n"
     ]
    }
   ],
   "source": [
    "collection.update_one({'_id' : 10}, {'$pull': {'arr_field' : '2def'}})\n",
    "show_coll(collection.find( {'_id' : 10}, {'date': 0, 'name':0} ))"
   ]
  },
  {
   "cell_type": "markdown",
   "id": "77e6de23",
   "metadata": {},
   "source": [
    "##### unset"
   ]
  },
  {
   "cell_type": "code",
   "execution_count": 50,
   "id": "b2aa3ad2",
   "metadata": {},
   "outputs": [
    {
     "name": "stdout",
     "output_type": "stream",
     "text": [
      "{'_id': 10, 'num': 40}\n"
     ]
    }
   ],
   "source": [
    "collection.update_one({'_id' : 10}, {'$unset': {'arr_field' : 'a1b2c'}})\n",
    "show_coll(collection.find( {'_id' : 10}, {'date': 0, 'name':0} ))"
   ]
  },
  {
   "cell_type": "markdown",
   "id": "1926b0fd",
   "metadata": {},
   "source": [
    "## Filter the Result"
   ]
  },
  {
   "cell_type": "markdown",
   "id": "2e97e54f",
   "metadata": {},
   "source": [
    "* $in (matches any of the values in an array)\n",
    "\n",
    "* $lt (less than)\n",
    "\n",
    "* $gt (greater than, field starts with the letter \"X\" or higher (alphabetically))\n",
    "\n",
    "* AND Operator (Both the Conditions should be satisfied)\n",
    "\n",
    "* OR Operator (Either of the condition should satisfy)"
   ]
  },
  {
   "cell_type": "code",
   "execution_count": 12,
   "id": "eb1cf52f",
   "metadata": {},
   "outputs": [
    {
     "name": "stdout",
     "output_type": "stream",
     "text": [
      "{'_id': ObjectId('6426bd99b73ccfa0a38d9a23'), 'num': 94, 'date': datetime.datetime(2023, 3, 23, 0, 0), 'name': 'val'}\n"
     ]
    }
   ],
   "source": [
    "show_coll(collection.find( { 'name': {'$gt': 'v'} } ))"
   ]
  },
  {
   "cell_type": "code",
   "execution_count": 25,
   "id": "b7bd7d9d",
   "metadata": {},
   "outputs": [
    {
     "name": "stdout",
     "output_type": "stream",
     "text": [
      "{'_id': 1, 'num': 7, 'date': datetime.datetime(2023, 3, 24, 12, 14, 16, 145000), 'name': 'test1774'}\n",
      "{'_id': 9, 'num': 12, 'date': datetime.datetime(2023, 4, 2, 12, 23, 46, 674000), 'name': 'test9872'}\n",
      "{'_id': 7, 'num': 4, 'date': datetime.datetime(2023, 3, 31, 12, 23, 46, 674000), 'name': 'test7534'}\n",
      "{'_id': 3, 'num': 7, 'date': datetime.datetime(2023, 3, 27, 12, 23, 46, 674000), 'name': 'test3895'}\n",
      "{'_id': ObjectId('6426c33ab73ccfa0a38d9a24'), 'num': 17, 'date': datetime.datetime(2023, 3, 25, 0, 0), 'name': 'bcd'}\n"
     ]
    }
   ],
   "source": [
    "show_coll(collection.find( { 'num': {'$lt': 20} } ))"
   ]
  },
  {
   "cell_type": "code",
   "execution_count": 24,
   "id": "cf8a97c3",
   "metadata": {},
   "outputs": [
    {
     "name": "stdout",
     "output_type": "stream",
     "text": [
      "{'_id': 4, 'num': 31, 'date': datetime.datetime(2023, 3, 28, 12, 23, 46, 674000), 'name': 'TEST4929'}\n",
      "{'_id': 10, 'num': 40, 'date': datetime.datetime(2023, 4, 3, 12, 23, 46, 674000), 'name': 'TEST1081'}\n"
     ]
    }
   ],
   "source": [
    "show_coll(collection.find( { 'name': {'$in': ['TEST4929', 'TEST1081']} } ))"
   ]
  },
  {
   "cell_type": "code",
   "execution_count": 27,
   "id": "c6329628",
   "metadata": {},
   "outputs": [
    {
     "name": "stdout",
     "output_type": "stream",
     "text": [
      "{'_id': 4, 'num': 31, 'date': datetime.datetime(2023, 3, 28, 12, 23, 46, 674000), 'name': 'TEST4929'}\n",
      "{'_id': 10, 'num': 40, 'date': datetime.datetime(2023, 4, 3, 12, 23, 46, 674000), 'name': 'TEST1081'}\n",
      "{'_id': 8, 'num': 47, 'date': datetime.datetime(2023, 4, 1, 12, 23, 46, 674000), 'name': 'TEST8745'}\n"
     ]
    }
   ],
   "source": [
    "show_coll(collection.find( { '$and': [{'num': {'$gt': 30} },\n",
    "                                     {'name': {'$lt': 'a'}}]} ))"
   ]
  },
  {
   "cell_type": "markdown",
   "id": "d9796b98",
   "metadata": {},
   "source": [
    "#### Regular expressions "
   ]
  },
  {
   "cell_type": "code",
   "execution_count": 45,
   "id": "9870ca1e",
   "metadata": {},
   "outputs": [
    {
     "name": "stdout",
     "output_type": "stream",
     "text": [
      "{'_id': 1, 'num': 7, 'date': datetime.datetime(2023, 3, 24, 12, 14, 16, 145000), 'name': 'test1774'}\n"
     ]
    }
   ],
   "source": [
    "show_coll(collection.find( { 'name': {'$regex': 'test1.'} } ))"
   ]
  },
  {
   "cell_type": "code",
   "execution_count": 52,
   "id": "93b778d9",
   "metadata": {},
   "outputs": [
    {
     "name": "stdout",
     "output_type": "stream",
     "text": [
      "{'_id': 1, 'num': 7, 'date': datetime.datetime(2023, 3, 24, 12, 14, 16, 145000), 'name': 'test1774'}\n",
      "{'_id': 3, 'num': 7, 'date': datetime.datetime(2023, 3, 27, 12, 23, 46, 674000), 'name': 'test3895'}\n",
      "{'_id': 5, 'num': 34, 'date': datetime.datetime(2023, 3, 29, 12, 23, 46, 674000), 'name': 'test5154'}\n",
      "{'_id': 7, 'num': 4, 'date': datetime.datetime(2023, 3, 31, 12, 23, 46, 674000), 'name': 'test7534'}\n",
      "{'_id': 9, 'num': 12, 'date': datetime.datetime(2023, 4, 2, 12, 23, 46, 674000), 'name': 'test9872'}\n",
      "{'_id': ObjectId('641d8ce08f3a7e46b902631a'), 'num': 23, 'date': datetime.datetime(2023, 3, 24, 0, 0), 'name': 'test_val'}\n"
     ]
    }
   ],
   "source": [
    "show_coll(collection.find( { 'name': {'$regex': 'test.*'} } ))"
   ]
  },
  {
   "cell_type": "code",
   "execution_count": 57,
   "id": "0d571b18",
   "metadata": {},
   "outputs": [
    {
     "name": "stdout",
     "output_type": "stream",
     "text": [
      "{'_id': 1, 'num': 7, 'date': datetime.datetime(2023, 3, 24, 12, 14, 16, 145000), 'name': 'test1774'}\n",
      "{'_id': 5, 'num': 34, 'date': datetime.datetime(2023, 3, 29, 12, 23, 46, 674000), 'name': 'test5154'}\n",
      "{'_id': 7, 'num': 4, 'date': datetime.datetime(2023, 3, 31, 12, 23, 46, 674000), 'name': 'test7534'}\n"
     ]
    }
   ],
   "source": [
    "show_coll(collection.find( { 'name': {'$regex': '4$'} } ))"
   ]
  },
  {
   "cell_type": "code",
   "execution_count": 35,
   "id": "363c42e0",
   "metadata": {},
   "outputs": [
    {
     "name": "stdout",
     "output_type": "stream",
     "text": [
      "{'_id': 4, 'num': 31, 'date': datetime.datetime(2023, 3, 28, 12, 23, 46, 674000), 'name': 'TEST4929'}\n",
      "{'_id': 10, 'num': 40, 'date': datetime.datetime(2023, 4, 3, 12, 23, 46, 674000), 'name': 'TEST1081'}\n",
      "{'_id': 8, 'num': 47, 'date': datetime.datetime(2023, 4, 1, 12, 23, 46, 674000), 'name': 'TEST8745'}\n",
      "{'_id': 6, 'num': 23, 'date': datetime.datetime(2023, 3, 30, 12, 23, 46, 674000), 'name': 'TEST6220'}\n",
      "{'_id': 2, 'num': 26, 'date': datetime.datetime(2023, 3, 26, 12, 23, 46, 674000), 'name': 'TEST2640'}\n"
     ]
    }
   ],
   "source": [
    "show_coll(collection.find( { 'name': {'$regex': '^T'} } ))"
   ]
  },
  {
   "cell_type": "code",
   "execution_count": 76,
   "id": "b4bef269",
   "metadata": {},
   "outputs": [
    {
     "name": "stdout",
     "output_type": "stream",
     "text": [
      "{'_id': ObjectId('641d8ce08f3a7e46b902631a'), 'num': 23, 'date': datetime.datetime(2023, 3, 24, 0, 0), 'name': 'test_val'}\n"
     ]
    }
   ],
   "source": [
    "show_coll(collection.find( { 'name': {'$regex': 'val$'} } ))"
   ]
  },
  {
   "cell_type": "code",
   "execution_count": 77,
   "id": "42e4e28d",
   "metadata": {},
   "outputs": [
    {
     "name": "stdout",
     "output_type": "stream",
     "text": [
      "{'_id': 3, 'num': 7, 'date': datetime.datetime(2023, 3, 27, 12, 23, 46, 674000), 'name': 'test3895'}\n",
      "{'_id': 4, 'num': 31, 'date': datetime.datetime(2023, 3, 28, 12, 23, 46, 674000), 'name': 'TEST4929'}\n",
      "{'_id': 9, 'num': 12, 'date': datetime.datetime(2023, 4, 2, 12, 23, 46, 674000), 'name': 'test9872'}\n"
     ]
    }
   ],
   "source": [
    "show_coll(collection.find( { 'name': {'$regex': '.*9'} } ))"
   ]
  },
  {
   "cell_type": "markdown",
   "id": "1b303dc4",
   "metadata": {},
   "source": [
    "## Sort the Result"
   ]
  },
  {
   "cell_type": "code",
   "execution_count": 29,
   "id": "9a355e63",
   "metadata": {},
   "outputs": [
    {
     "name": "stdout",
     "output_type": "stream",
     "text": [
      "{'_id': 3, 'num': 7, 'date': datetime.datetime(2023, 3, 27, 12, 23, 46, 674000), 'name': 'test3895'}\n",
      "{'_id': 9, 'num': 12, 'date': datetime.datetime(2023, 4, 2, 12, 23, 46, 674000), 'name': 'test9872'}\n",
      "{'_id': 4, 'num': 31, 'date': datetime.datetime(2023, 3, 28, 12, 23, 46, 674000), 'name': 'TEST4929'}\n"
     ]
    }
   ],
   "source": [
    "show_coll(collection.find( { 'name': {'$regex': '.*9'} } ).sort('num'))\n",
    "#  Sort the result reverse alphabetically: .sort('num', -1)"
   ]
  },
  {
   "cell_type": "markdown",
   "id": "b6e6c4b9",
   "metadata": {},
   "source": [
    "## Limit the Result"
   ]
  },
  {
   "cell_type": "code",
   "execution_count": 37,
   "id": "4e2449d4",
   "metadata": {},
   "outputs": [
    {
     "name": "stdout",
     "output_type": "stream",
     "text": [
      "{'_id': 9, 'num': 12, 'date': datetime.datetime(2023, 4, 2, 12, 23, 46, 674000), 'name': 'test9872'}\n",
      "{'_id': 4, 'num': 31, 'date': datetime.datetime(2023, 3, 28, 12, 23, 46, 674000), 'name': 'TEST4929'}\n",
      "{'_id': 10, 'num': 40, 'date': datetime.datetime(2023, 4, 3, 12, 23, 46, 674000), 'name': 'TEST1081'}\n"
     ]
    }
   ],
   "source": [
    "show_coll(collection.find({}).limit(3))"
   ]
  },
  {
   "cell_type": "markdown",
   "id": "9aa8d911",
   "metadata": {},
   "source": [
    "## Delete Document\n",
    "* .delete_one()\n",
    "* .delete_one()"
   ]
  },
  {
   "cell_type": "code",
   "execution_count": 34,
   "id": "981b19ac",
   "metadata": {},
   "outputs": [
    {
     "data": {
      "text/plain": [
       "1"
      ]
     },
     "execution_count": 34,
     "metadata": {},
     "output_type": "execute_result"
    }
   ],
   "source": [
    "query = collection.delete_one( { 'name': {'$regex': 'test1.'}})\n",
    "query.deleted_count"
   ]
  },
  {
   "cell_type": "code",
   "execution_count": 30,
   "id": "fc6ac452",
   "metadata": {},
   "outputs": [],
   "source": [
    "# Delete all documents in the \"testcoll\" collection : \n",
    "# query = collection.delete_many({})"
   ]
  },
  {
   "cell_type": "markdown",
   "id": "e01d0ab1",
   "metadata": {},
   "source": [
    "#### Delete Collection"
   ]
  },
  {
   "cell_type": "code",
   "execution_count": 36,
   "id": "878b9abb",
   "metadata": {},
   "outputs": [],
   "source": [
    "# collection.drop()"
   ]
  },
  {
   "cell_type": "markdown",
   "id": "a2334eb2",
   "metadata": {},
   "source": [
    "## Indexing"
   ]
  },
  {
   "cell_type": "code",
   "execution_count": 54,
   "id": "aad7bc62",
   "metadata": {},
   "outputs": [
    {
     "name": "stdout",
     "output_type": "stream",
     "text": [
      "{'_id_': {'v': 2, 'key': [('_id', 1)]}, 'num_ind_-1': {'v': 2, 'key': [('num_ind', -1)]}}\n"
     ]
    }
   ],
   "source": [
    "collection.create_index([('num_ind', pymongo.DESCENDING)])\n",
    "print(collection.index_information())"
   ]
  },
  {
   "cell_type": "code",
   "execution_count": 55,
   "id": "dd8c2ab9",
   "metadata": {},
   "outputs": [
    {
     "name": "stdout",
     "output_type": "stream",
     "text": [
      "{'_id_': {'v': 2, 'key': [('_id', 1)]}, 'num_ind_-1': {'v': 2, 'key': [('num_ind', -1)]}, 'num_1': {'v': 2, 'key': [('num', 1)], 'unique': True}}\n"
     ]
    }
   ],
   "source": [
    "collection.create_index([('num', pymongo.ASCENDING)], unique=True)\n",
    "print(collection.index_information())"
   ]
  },
  {
   "cell_type": "markdown",
   "id": "583f00fb",
   "metadata": {},
   "source": [
    "#### Drop"
   ]
  },
  {
   "cell_type": "code",
   "execution_count": 57,
   "id": "42d14d59",
   "metadata": {},
   "outputs": [
    {
     "name": "stdout",
     "output_type": "stream",
     "text": [
      "{'_id_': {'v': 2, 'key': [('_id', 1)]}, 'num_1': {'v': 2, 'key': [('num', 1)], 'unique': True}}\n"
     ]
    }
   ],
   "source": [
    "collection.drop_index('num_ind_-1')\n",
    "print(collection.index_information())"
   ]
  },
  {
   "cell_type": "markdown",
   "id": "d15590a3",
   "metadata": {},
   "source": [
    "## DataFrame using Pandas for our MongoDB"
   ]
  },
  {
   "cell_type": "code",
   "execution_count": 61,
   "id": "bfe6c1aa",
   "metadata": {},
   "outputs": [
    {
     "data": {
      "text/html": [
       "<div>\n",
       "<style scoped>\n",
       "    .dataframe tbody tr th:only-of-type {\n",
       "        vertical-align: middle;\n",
       "    }\n",
       "\n",
       "    .dataframe tbody tr th {\n",
       "        vertical-align: top;\n",
       "    }\n",
       "\n",
       "    .dataframe thead th {\n",
       "        text-align: right;\n",
       "    }\n",
       "</style>\n",
       "<table border=\"1\" class=\"dataframe\">\n",
       "  <thead>\n",
       "    <tr style=\"text-align: right;\">\n",
       "      <th></th>\n",
       "      <th>_id</th>\n",
       "      <th>num</th>\n",
       "      <th>date</th>\n",
       "      <th>name</th>\n",
       "    </tr>\n",
       "  </thead>\n",
       "  <tbody>\n",
       "    <tr>\n",
       "      <th>0</th>\n",
       "      <td>9</td>\n",
       "      <td>12</td>\n",
       "      <td>2023-04-02 12:23:46.674</td>\n",
       "      <td>test9872</td>\n",
       "    </tr>\n",
       "    <tr>\n",
       "      <th>1</th>\n",
       "      <td>4</td>\n",
       "      <td>31</td>\n",
       "      <td>2023-03-28 12:23:46.674</td>\n",
       "      <td>TEST4929</td>\n",
       "    </tr>\n",
       "    <tr>\n",
       "      <th>2</th>\n",
       "      <td>10</td>\n",
       "      <td>40</td>\n",
       "      <td>2023-04-03 12:23:46.674</td>\n",
       "      <td>TEST1081</td>\n",
       "    </tr>\n",
       "    <tr>\n",
       "      <th>3</th>\n",
       "      <td>8</td>\n",
       "      <td>47</td>\n",
       "      <td>2023-04-01 12:23:46.674</td>\n",
       "      <td>TEST8745</td>\n",
       "    </tr>\n",
       "    <tr>\n",
       "      <th>4</th>\n",
       "      <td>7</td>\n",
       "      <td>7</td>\n",
       "      <td>2023-03-31 12:23:46.674</td>\n",
       "      <td>test7534</td>\n",
       "    </tr>\n",
       "  </tbody>\n",
       "</table>\n",
       "</div>"
      ],
      "text/plain": [
       "  _id  num                    date      name\n",
       "0   9   12 2023-04-02 12:23:46.674  test9872\n",
       "1   4   31 2023-03-28 12:23:46.674  TEST4929\n",
       "2  10   40 2023-04-03 12:23:46.674  TEST1081\n",
       "3   8   47 2023-04-01 12:23:46.674  TEST8745\n",
       "4   7    7 2023-03-31 12:23:46.674  test7534"
      ]
     },
     "execution_count": 61,
     "metadata": {},
     "output_type": "execute_result"
    }
   ],
   "source": [
    "df_coll = pd.DataFrame(list(collection.find({})))\n",
    "df_coll.head()"
   ]
  }
 ],
 "metadata": {
  "kernelspec": {
   "display_name": "Python 3 (ipykernel)",
   "language": "python",
   "name": "python3"
  },
  "language_info": {
   "codemirror_mode": {
    "name": "ipython",
    "version": 3
   },
   "file_extension": ".py",
   "mimetype": "text/x-python",
   "name": "python",
   "nbconvert_exporter": "python",
   "pygments_lexer": "ipython3",
   "version": "3.10.9"
  }
 },
 "nbformat": 4,
 "nbformat_minor": 5
}
