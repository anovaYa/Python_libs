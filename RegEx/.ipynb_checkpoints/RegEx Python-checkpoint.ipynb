{
 "cells": [
  {
   "cell_type": "markdown",
   "id": "e460f7d6",
   "metadata": {},
   "source": [
    "# Python Regular Expressions\n",
    "*- a sequence of characters used to check whether a pattern exists in a given text (string) or not.*<br>\n",
    "The Python module **re** provides full support for Perl-like regular expressions in Python."
   ]
  },
  {
   "cell_type": "markdown",
   "id": "637d946f",
   "metadata": {},
   "source": [
    "## Raw Strings\n",
    "To avoid any confusion while dealing with regular expressions, we would use Raw Strings as **r'expression'.**\n",
    "> Characters that cannot be represented in a normal string (tabs, line feeds) are described using an escape sequence with a backslash \\ (\\t, \\n).<br>\n",
    "Strings prefixed with **r** or **R**, such as **r'...'** and **r\"...\"**, are called raw strings and treat backslashes \\ as literal characters. In raw strings, escape sequences are not treated specially."
   ]
  },
  {
   "cell_type": "code",
   "execution_count": 14,
   "id": "191ee872",
   "metadata": {},
   "outputs": [
    {
     "name": "stdout",
     "output_type": "stream",
     "text": [
      "line:\n",
      " a\tb\n",
      "A\tB \n",
      "raw_line:\n",
      " a\\tb\\nA\\tB\n"
     ]
    }
   ],
   "source": [
    "line = \"a\\tb\\nA\\tB\"\n",
    "raw_line = r\"a\\tb\\nA\\tB\"\n",
    "print('line:\\n', line, '\\nraw_line:\\n', raw_line)"
   ]
  },
  {
   "cell_type": "code",
   "execution_count": 1,
   "id": "cc409120",
   "metadata": {},
   "outputs": [],
   "source": [
    "import re"
   ]
  },
  {
   "cell_type": "code",
   "execution_count": 12,
   "id": "ae0d586b",
   "metadata": {},
   "outputs": [],
   "source": [
    "someText = \"111, 112, 113, 123, 120, 145, 158, 179, 111 \\\n",
    "           aaa, AAA, AAA BBB a123. \\\n",
    "           0_0, 0_^, ^_0, ^_^ \\\n",
    "           [] . a12 a1a c12 bAa b12\""
   ]
  },
  {
   "cell_type": "markdown",
   "id": "c478faa3",
   "metadata": {},
   "source": [
    "## RegEx Functions\n",
    "* .match() - find the pattern at the beginning of a string\n",
    "* .search() - return the first match of a pattern in a string\n",
    "* .findall()\t- return all matches of a pattern in a string\n",
    "* .finditer() - return all matches of a pattern as an iterator\n",
    "* .split() - returns a list where the string has been split at each match\n",
    "* .sub() - replaces one or many matches with a string\n"
   ]
  },
  {
   "cell_type": "code",
   "execution_count": 45,
   "id": "2f6cfdbf",
   "metadata": {},
   "outputs": [
    {
     "data": {
      "text/plain": [
       "('111',)"
      ]
     },
     "execution_count": 45,
     "metadata": {},
     "output_type": "execute_result"
    }
   ],
   "source": [
    "re.match(r'(111)', someText).groups()"
   ]
  },
  {
   "cell_type": "code",
   "execution_count": 44,
   "id": "965b5862",
   "metadata": {},
   "outputs": [
    {
     "name": "stdout",
     "output_type": "stream",
     "text": [
      "Matched string: 111\n",
      "Starting position: 0\n",
      "Ending position: 3\n",
      "Positions: (0, 3)\n"
     ]
    },
    {
     "data": {
      "text/plain": [
       "<re.Match object; span=(0, 3), match='111'>"
      ]
     },
     "execution_count": 44,
     "metadata": {},
     "output_type": "execute_result"
    }
   ],
   "source": [
    "result = re.search(r'111', someText)\n",
    "print('Matched string:',result.group())\n",
    "print('Starting position:', result.start())\n",
    "print('Ending position:',result.end())\n",
    "print('Positions:',result.span())\n",
    "result"
   ]
  },
  {
   "cell_type": "code",
   "execution_count": 43,
   "id": "1e3f5d5d",
   "metadata": {},
   "outputs": [
    {
     "data": {
      "text/plain": [
       "['111', '111']"
      ]
     },
     "execution_count": 43,
     "metadata": {},
     "output_type": "execute_result"
    }
   ],
   "source": [
    "re.findall(r'111', someText)"
   ]
  },
  {
   "cell_type": "markdown",
   "id": "b7d0937c",
   "metadata": {},
   "source": [
    "### Metacharacters\n",
    "* [] - a set of characters\t**\"[a-m]\"**\t\n",
    "* {} - exactly the specified number of occurrences\t**\"he.{2}o\"**\n",
    "* |\t- either or\t**\"falls|stays\"**\t\n",
    "* () - \tcapture and group"
   ]
  },
  {
   "cell_type": "markdown",
   "id": "ada2a2a6",
   "metadata": {},
   "source": [
    "### Specifies a specific set of characters to match [ ]\n",
    "**r'[0-9]'** == [0123456789] <br>\n",
    "**r'[a-z]'** == [abcdefghijklmnopqrstuvwxyz] <br>\n",
    "**r'[A-Z]'** == [ABCDEFGHIJKLMNOPQRSTUVWXYZ] <br>"
   ]
  },
  {
   "cell_type": "code",
   "execution_count": 42,
   "id": "9f952d05",
   "metadata": {},
   "outputs": [
    {
     "data": {
      "text/plain": [
       "['112', '113']"
      ]
     },
     "execution_count": 42,
     "metadata": {},
     "output_type": "execute_result"
    }
   ],
   "source": [
    "re.findall(r'11[23]', someText)"
   ]
  },
  {
   "cell_type": "code",
   "execution_count": 41,
   "id": "952212f2",
   "metadata": {},
   "outputs": [
    {
     "data": {
      "text/plain": [
       "['111', '111']"
      ]
     },
     "execution_count": 41,
     "metadata": {},
     "output_type": "execute_result"
    }
   ],
   "source": [
    "#returns a match for any character EXCEPT ^23\n",
    "re.findall(r'11[^23]', someText)"
   ]
  },
  {
   "cell_type": "code",
   "execution_count": 40,
   "id": "a5f45949",
   "metadata": {},
   "outputs": [
    {
     "data": {
      "text/plain": [
       "['a12', 'a12', 'c12', 'b12']"
      ]
     },
     "execution_count": 40,
     "metadata": {},
     "output_type": "execute_result"
    }
   ],
   "source": [
    "re.findall(r'[a-c]12', someText)"
   ]
  },
  {
   "cell_type": "code",
   "execution_count": 39,
   "id": "1bf2e3eb",
   "metadata": {},
   "outputs": [
    {
     "data": {
      "text/plain": [
       "['[]']"
      ]
     },
     "execution_count": 39,
     "metadata": {},
     "output_type": "execute_result"
    }
   ],
   "source": [
    "re.findall(r'\\[\\]', someText)"
   ]
  },
  {
   "cell_type": "markdown",
   "id": "7115990f",
   "metadata": {},
   "source": [
    "### Special Sequences"
   ]
  },
  {
   "cell_type": "markdown",
   "id": "6808ca8e",
   "metadata": {},
   "source": [
    "**\\A** - *the specified characters are at the beginning of the string* **\"\\AThe\"** <br>\t\n",
    "**\\Z** - *the specified characters are at the end of the string*\t**\"Spain\\Z\"** <br>\n",
    "**\\b** - *the beginning or at the end of a word* **r\"\\bain\"  **r\"ain\\b\"**\t<br>\t\n",
    "**\\B** - *the specified characters are present, but NOT at the beginning (or at the end) of a word* **r\"\\Bain\" r\"ain\\B\"**\t<br>*\n",
    "**\\d** == [0-9]\t<br>\t\n",
    "**\\D** == [^0-9] <br>\t\n",
    "**\\s** == [ ] *the string contains a white space character\t(\\t, \\s)* <br>\t\n",
    "**\\S** == [^ ] \t*the string DOES NOT contain a white space character*\t\t<br>\t\n",
    "**\\w** == [a-zA-Z0-9_] *any word characters, and the underscore _ character* <br>\t\n",
    "**\\W** == [^a-zA-Z0-9_]<br>\t\n",
    "**.** - *any character* **\"he..o\"**\t<br>\t\n",
    "**^** - *starts with* **\"^hello\"**\t<br>\t\n",
    "**\\$** - *ends with*\t**\"planet\\\\$\"**\t<br>\t\n",
    "\\* - *zero or more occurrences*\t**\"he.\\*o\"**\t<br>\t\n",
    "**\\+** - *one or more occurrences*\t**\"he.+o\"**\t<br>\t\n",
    "**?** - *zero or one occurrences*\t**\"he.?o\"**\t<br>\t"
   ]
  },
  {
   "cell_type": "code",
   "execution_count": 2,
   "id": "09a23b2a",
   "metadata": {},
   "outputs": [],
   "source": [
    "testText = \"Beautiful 1is better than ugly.\\n \\\n",
    "            Explicit is better than implicit.\\n \\\n",
    "            Simple 23is better than complex.\\n \\\n",
    "            Complex is better than complicated.\\n \\\n",
    "            Flat is better than nested.\\n \\\n",
    "            Sparse is better than dense.\\n \\\n",
    "            \\t Readability counts.\\n \\\n",
    "            Special cases45 aren't special enough to break the rules.\\n \\\n",
    "            Although practicality beats purity.\\n \\\n",
    "            Errors should never pass silently.\\n \\\n",
    "            Unless explicitly silenced.\\n \\\n",
    "            In the face 758of amb34iguity, refuse the temptation to guess.\\n \\\n",
    "            There should be one-- and preferably only one --obvious way to do it.\\n \\\n",
    "            Although that way may not be obvious at fir4786st unless you're Dutch.\\n \\\n",
    "            \\t Now is better than never.\\n \\\n",
    "            Although never is often better than *right* now.\\n \\\n",
    "            If the implem7837entation is h783ard to explain, it's a bad idea.\\n \\\n",
    "            If the implementation is easy to explain, it may be a good idea.\\n \\\n",
    "            Namespaces are one honking great idea -- let's do more of those!\""
   ]
  },
  {
   "cell_type": "code",
   "execution_count": 60,
   "id": "7d21a1cf",
   "metadata": {},
   "outputs": [
    {
     "data": {
      "text/plain": [
       "['B']"
      ]
     },
     "execution_count": 60,
     "metadata": {},
     "output_type": "execute_result"
    }
   ],
   "source": [
    "re.findall(r'\\AB', testText) #Beautiful"
   ]
  },
  {
   "cell_type": "code",
   "execution_count": 61,
   "id": "d603f4ff",
   "metadata": {},
   "outputs": [
    {
     "data": {
      "text/plain": [
       "['c', 'c', 'c', 'c']"
      ]
     },
     "execution_count": 61,
     "metadata": {},
     "output_type": "execute_result"
    }
   ],
   "source": [
    "re.findall(r'\\bc', testText) #complex, ..."
   ]
  },
  {
   "cell_type": "code",
   "execution_count": 63,
   "id": "4e29c86b",
   "metadata": {},
   "outputs": [
    {
     "data": {
      "text/plain": [
       "['1i', '23', '45', '75', '8o', '34', '47', '86', '78', '37', '78', '3a']"
      ]
     },
     "execution_count": 63,
     "metadata": {},
     "output_type": "execute_result"
    }
   ],
   "source": [
    "re.findall(r'\\d.', testText)"
   ]
  },
  {
   "cell_type": "code",
   "execution_count": 66,
   "id": "f87e7ac0",
   "metadata": {},
   "outputs": [
    {
     "data": {
      "text/plain": [
       "[' 1', ' 2', 's4', ' 7', 'b3', 'r4', 'm7', 'h7']"
      ]
     },
     "execution_count": 66,
     "metadata": {},
     "output_type": "execute_result"
    }
   ],
   "source": [
    "re.findall(r'\\D\\d', testText)"
   ]
  },
  {
   "cell_type": "code",
   "execution_count": 72,
   "id": "e6e291f3",
   "metadata": {},
   "outputs": [
    {
     "data": {
      "text/plain": [
       "[' 1', ' 2', ' 7']"
      ]
     },
     "execution_count": 72,
     "metadata": {},
     "output_type": "execute_result"
    }
   ],
   "source": [
    "re.findall(r'\\s\\d', testText)"
   ]
  },
  {
   "cell_type": "code",
   "execution_count": 70,
   "id": "e381f4ec",
   "metadata": {},
   "outputs": [
    {
     "data": {
      "text/plain": [
       "['45']"
      ]
     },
     "execution_count": 70,
     "metadata": {},
     "output_type": "execute_result"
    }
   ],
   "source": [
    "re.findall(r'\\S\\b', testText)"
   ]
  },
  {
   "cell_type": "code",
   "execution_count": 73,
   "id": "135b4f07",
   "metadata": {},
   "outputs": [
    {
     "data": {
      "text/plain": [
       "['!']"
      ]
     },
     "execution_count": 73,
     "metadata": {},
     "output_type": "execute_result"
    }
   ],
   "source": [
    "re.findall(r'\\S$', testText)"
   ]
  },
  {
   "cell_type": "code",
   "execution_count": 83,
   "id": "88e2dce8",
   "metadata": {},
   "outputs": [
    {
     "data": {
      "text/plain": [
       "['1is', '23is', '45', '758of', '34iguity', '4786st', '7837entation', '783ard']"
      ]
     },
     "execution_count": 83,
     "metadata": {},
     "output_type": "execute_result"
    }
   ],
   "source": [
    "re.findall(r'\\d\\w*', testText)"
   ]
  },
  {
   "cell_type": "code",
   "execution_count": 85,
   "id": "79c8589e",
   "metadata": {
    "scrolled": true
   },
   "outputs": [
    {
     "data": {
      "text/plain": [
       "['', 'B', '', 'e', '', 'a', '', 'u', '', 't']"
      ]
     },
     "execution_count": 85,
     "metadata": {},
     "output_type": "execute_result"
    }
   ],
   "source": [
    "re.findall(r'.*?', testText)[0:10] #any"
   ]
  },
  {
   "cell_type": "markdown",
   "id": "ec44b5a7",
   "metadata": {},
   "source": [
    "### Mastering Quantifiers\n",
    "#### Greedy: As Many As Possible \n",
    "\n",
    "**{,n}** - less than or equal to n<br>\n",
    "**{m,}** - greater than or equal to m<br>\n",
    "**\\d{3}** == \\d\\d\\d <br>\n",
    "**\\d{0, }** == \\d*<br>\n",
    "**\\d{1, }** == \\d+<br>\n",
    "**\\d{0, 1}** == \\d?<br>\n",
    "**\\d{2, 5}** == \\d\\d ... \\d\\d\\d\\d\\d (5 or less)\n"
   ]
  },
  {
   "cell_type": "code",
   "execution_count": 92,
   "id": "56a896e0",
   "metadata": {},
   "outputs": [
    {
     "data": {
      "text/plain": [
       "['758', '478', '783', '783']"
      ]
     },
     "execution_count": 92,
     "metadata": {},
     "output_type": "execute_result"
    }
   ],
   "source": [
    "re.findall(r'\\d{3}', testText)"
   ]
  },
  {
   "cell_type": "code",
   "execution_count": 110,
   "id": "28b1224a",
   "metadata": {},
   "outputs": [
    {
     "data": {
      "text/plain": [
       "['Beautiful',\n",
       " 'complicated',\n",
       " 'Readability',\n",
       " 'practicality',\n",
       " 'explicitly',\n",
       " 'amb34iguity',\n",
       " 'temptation',\n",
       " 'preferably',\n",
       " 'fir4786st',\n",
       " 'implem7837en',\n",
       " 'implementati',\n",
       " 'Namespaces']"
      ]
     },
     "execution_count": 110,
     "metadata": {},
     "output_type": "execute_result"
    }
   ],
   "source": [
    "re.findall(r'\\w{9,12}', testText)"
   ]
  },
  {
   "cell_type": "code",
   "execution_count": 111,
   "id": "c698f316",
   "metadata": {},
   "outputs": [
    {
     "data": {
      "text/plain": [
       "['23', '45', '758', '34', '4786', '7837', '783']"
      ]
     },
     "execution_count": 111,
     "metadata": {},
     "output_type": "execute_result"
    }
   ],
   "source": [
    "re.findall(r'\\d{2,4}', testText)"
   ]
  },
  {
   "cell_type": "code",
   "execution_count": 113,
   "id": "48f842fd",
   "metadata": {},
   "outputs": [
    {
     "data": {
      "text/plain": [
       "['1', '23', '45', '75', '8', '34', '47', '86', '78', '37', '78', '3']"
      ]
     },
     "execution_count": 113,
     "metadata": {},
     "output_type": "execute_result"
    }
   ],
   "source": [
    "re.findall(r'\\d\\d?', testText) "
   ]
  },
  {
   "cell_type": "code",
   "execution_count": 115,
   "id": "413dec77",
   "metadata": {},
   "outputs": [
    {
     "data": {
      "text/plain": [
       "['23', 's45', '758', 'b34', 'r4786', 'm7837', 'h783']"
      ]
     },
     "execution_count": 115,
     "metadata": {},
     "output_type": "execute_result"
    }
   ],
   "source": [
    "re.findall(r'\\w\\d+', testText) "
   ]
  },
  {
   "cell_type": "markdown",
   "id": "e1482b58",
   "metadata": {},
   "source": [
    "#### Lazy: As Few As Possible\n",
    "**{m,n}?** - m to n <br>\n",
    "**{,n}?** - to n<br>\n",
    "**{m,}?** - m or more<br>\n",
    "**\\*?** - 0 or more<br>\n",
    "**+?** - 1 or more<br>\n",
    "**??** - 0 - 1<br>"
   ]
  },
  {
   "cell_type": "code",
   "execution_count": 118,
   "id": "549adf18",
   "metadata": {},
   "outputs": [
    {
     "data": {
      "text/plain": [
       "['Beautiful',\n",
       " 'complicat',\n",
       " 'Readabili',\n",
       " 'practical',\n",
       " 'explicitl',\n",
       " 'amb34igui',\n",
       " 'temptatio',\n",
       " 'preferabl',\n",
       " 'fir4786st',\n",
       " 'implem783',\n",
       " '7entation',\n",
       " 'implement',\n",
       " 'Namespace']"
      ]
     },
     "execution_count": 118,
     "metadata": {},
     "output_type": "execute_result"
    }
   ],
   "source": [
    "re.findall(r'\\w{9,12}?', testText)"
   ]
  },
  {
   "cell_type": "code",
   "execution_count": 120,
   "id": "01e6fadf",
   "metadata": {},
   "outputs": [
    {
     "data": {
      "text/plain": [
       "['1', '2', '3', '4', '5']"
      ]
     },
     "execution_count": 120,
     "metadata": {},
     "output_type": "execute_result"
    }
   ],
   "source": [
    "re.findall(r'\\d\\d*?', testText)[0:5]"
   ]
  },
  {
   "cell_type": "markdown",
   "id": "697b4b72",
   "metadata": {},
   "source": [
    "### Capturing Groups\n",
    "> A group is a part of a regex pattern enclosed in parentheses **()** metacharacter"
   ]
  },
  {
   "cell_type": "markdown",
   "id": "a2800d76",
   "metadata": {},
   "source": [
    "**(regex)** <br>\n",
    "**(?P\\<name\\>regex)** - сreates a named captured group<br>\n",
    "**(?P\\<name\\>regex)(?P=name)** - matches the contents of a previously captured named group<br>\n",
    "**(?:\\<regex\\>)** - creates a non-capturing group<br>"
   ]
  },
  {
   "cell_type": "code",
   "execution_count": 6,
   "id": "3c959cf0",
   "metadata": {},
   "outputs": [
    {
     "data": {
      "text/plain": [
       "[('1', 'is'),\n",
       " ('23', 'is'),\n",
       " ('758', 'of'),\n",
       " ('34', 'ig'),\n",
       " ('4786', 'st'),\n",
       " ('7837', 'en'),\n",
       " ('783', 'ar')]"
      ]
     },
     "execution_count": 6,
     "metadata": {},
     "output_type": "execute_result"
    }
   ],
   "source": [
    "re.findall(r'(\\d+)(\\w{2})', testText)"
   ]
  },
  {
   "cell_type": "code",
   "execution_count": 50,
   "id": "8953ea4b",
   "metadata": {},
   "outputs": [
    {
     "data": {
      "text/plain": [
       "('75', '8')"
      ]
     },
     "execution_count": 50,
     "metadata": {},
     "output_type": "execute_result"
    }
   ],
   "source": [
    "result = re.search(r'(\\d{2})(\\d)', testText)\n",
    "result.groups()"
   ]
  },
  {
   "cell_type": "code",
   "execution_count": 5,
   "id": "740dd3f5",
   "metadata": {},
   "outputs": [
    {
     "data": {
      "text/plain": [
       "['t', 't', 't', 't', 't', 't', 'r', 's', 's', 's', 's', 't', 't', 'o']"
      ]
     },
     "execution_count": 5,
     "metadata": {},
     "output_type": "execute_result"
    }
   ],
   "source": [
    "result = re.findall(r'(?P<repeats>\\w)(?P=repeats)', testText)\n",
    "result #better Errors Unless"
   ]
  },
  {
   "cell_type": "code",
   "execution_count": 14,
   "id": "5b212a3d",
   "metadata": {},
   "outputs": [
    {
     "data": {
      "text/plain": [
       "'cases'"
      ]
     },
     "execution_count": 14,
     "metadata": {},
     "output_type": "execute_result"
    }
   ],
   "source": [
    "result = re.search(r'(?P<word>[a-zA-Z]+)(?P<num_rep>\\d+)', testText)\n",
    "result.group(1)"
   ]
  },
  {
   "cell_type": "markdown",
   "id": "81286299",
   "metadata": {},
   "source": [
    "#### (?(n)yes|no)\n",
    "if a: b<br>\n",
    "else: c<br>"
   ]
  },
  {
   "cell_type": "code",
   "execution_count": 20,
   "id": "a4967f38",
   "metadata": {},
   "outputs": [
    {
     "data": {
      "text/plain": [
       "['', '', 'a', '', 'a']"
      ]
     },
     "execution_count": 20,
     "metadata": {},
     "output_type": "execute_result"
    }
   ],
   "source": [
    "result = re.findall(r'(a)?(?(1)b|co)', testText)\n",
    "result"
   ]
  },
  {
   "cell_type": "code",
   "execution_count": null,
   "id": "2a2fe144",
   "metadata": {},
   "outputs": [],
   "source": []
  }
 ],
 "metadata": {
  "kernelspec": {
   "display_name": "Python 3 (ipykernel)",
   "language": "python",
   "name": "python3"
  },
  "language_info": {
   "codemirror_mode": {
    "name": "ipython",
    "version": 3
   },
   "file_extension": ".py",
   "mimetype": "text/x-python",
   "name": "python",
   "nbconvert_exporter": "python",
   "pygments_lexer": "ipython3",
   "version": "3.10.9"
  }
 },
 "nbformat": 4,
 "nbformat_minor": 5
}
